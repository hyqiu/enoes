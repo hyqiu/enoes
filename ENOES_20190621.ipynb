{
  "nbformat": 4,
  "nbformat_minor": 0,
  "metadata": {
    "colab": {
      "name": "ENOES_20190621.ipynb",
      "version": "0.3.2",
      "provenance": [],
      "collapsed_sections": [],
      "toc_visible": true
    },
    "kernelspec": {
      "name": "python3",
      "display_name": "Python 3"
    }
  },
  "cells": [
    {
      "cell_type": "markdown",
      "metadata": {
        "id": "KEcGexRbCXHw",
        "colab_type": "text"
      },
      "source": [
        "Le but de cette série de travaux pratiques est de vous permettre de comprendre par la pratique les fonctionnalités de base du langage Python."
      ]
    },
    {
      "cell_type": "markdown",
      "metadata": {
        "id": "VxipGDxINJqy",
        "colab_type": "text"
      },
      "source": [
        "# I. Manipulations basiques\n",
        "\n"
      ]
    },
    {
      "cell_type": "markdown",
      "metadata": {
        "id": "OTUGDY5uODGT",
        "colab_type": "text"
      },
      "source": [
        "Pour exécuter une cellule, appuyer sur **Shift + Entrée**"
      ]
    },
    {
      "cell_type": "code",
      "metadata": {
        "id": "M0BCrmERNJIt",
        "colab_type": "code",
        "colab": {}
      },
      "source": [
        "## Ceci est un commentaire\n",
        "x = 2\n",
        "y = 3.0\n",
        "z = 'hello world'"
      ],
      "execution_count": 0,
      "outputs": []
    },
    {
      "cell_type": "markdown",
      "metadata": {
        "id": "pjI8CeQ6NnGq",
        "colab_type": "text"
      },
      "source": [
        "x, y et z sont des **variables** (une portion de la mémoire dédiée à stocker l'information rentrée).\n",
        "\n",
        "---\n",
        "\n",
        "*   x est un **entier** (*integer*)\n",
        "*   y est un **réel** (*float*)\n",
        "*   z est une **chaîne de caractères** (*string*)"
      ]
    },
    {
      "cell_type": "code",
      "metadata": {
        "id": "GInXIGFbNhHI",
        "colab_type": "code",
        "outputId": "20e50544-4921-4dbf-d3bf-c27b7634f304",
        "colab": {
          "base_uri": "https://localhost:8080/",
          "height": 51
        }
      },
      "source": [
        "## La commande print()\n",
        "print(x + y)\n",
        "print(z)"
      ],
      "execution_count": 0,
      "outputs": [
        {
          "output_type": "stream",
          "text": [
            "5.0\n",
            "hello world\n"
          ],
          "name": "stdout"
        }
      ]
    },
    {
      "cell_type": "markdown",
      "metadata": {
        "id": "scQpwvFXNNJT",
        "colab_type": "text"
      },
      "source": [
        "`print()` est une **commande** permettant à Python de renvoyer le résultat d'une opération ou la valeur d'une variable."
      ]
    },
    {
      "cell_type": "code",
      "metadata": {
        "id": "A_JECX-MNOCv",
        "colab_type": "code",
        "outputId": "261da712-c2cc-43a3-ba7b-208a13254c2d",
        "colab": {
          "base_uri": "https://localhost:8080/",
          "height": 85
        }
      },
      "source": [
        "## Les opérations classiques peuvent être effectuées dans Python\n",
        "somme = x + y\n",
        "difference = x - y\n",
        "produit = x * y\n",
        "division = x / y\n",
        "\n",
        "print('Somme = %s' %(somme))\n",
        "print('Différence = %s' %(difference))\n",
        "print('Produit = %s' % (produit))\n",
        "print('Quotient = %s' % (division))"
      ],
      "execution_count": 0,
      "outputs": [
        {
          "output_type": "stream",
          "text": [
            "Somme = 5.0\n",
            "Différence = -1.0\n",
            "Produit = 6.0\n",
            "Quotient = 0.6666666666666666\n"
          ],
          "name": "stdout"
        }
      ]
    },
    {
      "cell_type": "markdown",
      "metadata": {
        "id": "YSFmlVCZWzqy",
        "colab_type": "text"
      },
      "source": [
        "Une variable peut être actualisée à partir d'une ancienne valeur."
      ]
    },
    {
      "cell_type": "code",
      "metadata": {
        "id": "Bz_R6KTqW8uY",
        "colab_type": "code",
        "colab": {}
      },
      "source": [
        "## Ajouter 1 à la variable x\n",
        "x = x + 1\n",
        "# Lire : Nouvelle valeur = Ancienne valeur + 1\n",
        "\n",
        "# On peut aussi écrire x += 1"
      ],
      "execution_count": 0,
      "outputs": []
    },
    {
      "cell_type": "markdown",
      "metadata": {
        "id": "MUW37scrQZic",
        "colab_type": "text"
      },
      "source": [
        "# II. Stocker un ensemble d'informations"
      ]
    },
    {
      "cell_type": "markdown",
      "metadata": {
        "id": "wvwl6d2PQpDa",
        "colab_type": "text"
      },
      "source": [
        "Une variable peut stocker un ensemble d'informations, grâce aux **structures de données** (*data structures*), au nombre de trois : \n",
        "\n",
        "1.   Liste (le plus courant)\n",
        "2.   Dictionnaire\n",
        "3.   N-uplet"
      ]
    },
    {
      "cell_type": "code",
      "metadata": {
        "id": "SK9EbuEzQiu-",
        "colab_type": "code",
        "colab": {}
      },
      "source": [
        "liste = []\n",
        "dictionnaire = {}\n",
        "n_uplet = ()"
      ],
      "execution_count": 0,
      "outputs": []
    },
    {
      "cell_type": "markdown",
      "metadata": {
        "id": "eDROYS8dSSQo",
        "colab_type": "text"
      },
      "source": [
        "Les trois variables ci-dessus sont des éléments vides. Créons une liste à partir des variables `x`, `y` et `z`."
      ]
    },
    {
      "cell_type": "code",
      "metadata": {
        "id": "6Yaf1ceoQ6x3",
        "colab_type": "code",
        "colab": {}
      },
      "source": [
        "liste = [x, y, z]"
      ],
      "execution_count": 0,
      "outputs": []
    },
    {
      "cell_type": "markdown",
      "metadata": {
        "id": "IF0i8WLFSl-e",
        "colab_type": "text"
      },
      "source": [
        "A partir de cette liste, on peut : \n",
        "\n",
        "*   Calculer sa longueur avec la commande `len()`\n",
        "*   Accéder aux différents éléments en appelant l'indice correspondant (**important : le premier élément est indexé par 0**)\n",
        "*   Ajouter ou supprimer des éléments avec les commandes `append()` et `pop()`\n",
        "* ..."
      ]
    },
    {
      "cell_type": "code",
      "metadata": {
        "id": "fPH767ZdTklI",
        "colab_type": "code",
        "outputId": "365267b6-4e39-4780-8374-323c1fad3528",
        "colab": {
          "base_uri": "https://localhost:8080/",
          "height": 34
        }
      },
      "source": [
        "## Calcul de la longueur de la variable `liste`\n",
        "print(len(liste))"
      ],
      "execution_count": 0,
      "outputs": [
        {
          "output_type": "stream",
          "text": [
            "3\n"
          ],
          "name": "stdout"
        }
      ]
    },
    {
      "cell_type": "code",
      "metadata": {
        "id": "f4lVSB6vTrLJ",
        "colab_type": "code",
        "outputId": "837ff158-7b63-4065-8b79-79cca4309e5d",
        "colab": {
          "base_uri": "https://localhost:8080/",
          "height": 68
        }
      },
      "source": [
        "## Requêter un élément de la liste\n",
        "print(liste[0])\n",
        "print(liste[1])\n",
        "print(liste[-1]) # Un nombre négatif signifie qu'on requête à partir de la fin de la liste"
      ],
      "execution_count": 0,
      "outputs": [
        {
          "output_type": "stream",
          "text": [
            "2\n",
            "3\n",
            "hello world\n"
          ],
          "name": "stdout"
        }
      ]
    },
    {
      "cell_type": "code",
      "metadata": {
        "id": "WrpOxa17UCzD",
        "colab_type": "code",
        "outputId": "54177535-e515-4cee-e585-9d7851b36afe",
        "colab": {
          "base_uri": "https://localhost:8080/",
          "height": 51
        }
      },
      "source": [
        "## Ajouter ou enlever un élément d'une liste\n",
        "zeta = 10\n",
        "liste.append(zeta)\n",
        "print(liste)\n",
        "liste.pop()\n",
        "print(liste)"
      ],
      "execution_count": 0,
      "outputs": [
        {
          "output_type": "stream",
          "text": [
            "[2, 3, 'hello world', 10]\n",
            "[2, 3, 'hello world']\n"
          ],
          "name": "stdout"
        }
      ]
    },
    {
      "cell_type": "markdown",
      "metadata": {
        "id": "5wuzY90qUjeA",
        "colab_type": "text"
      },
      "source": [
        "On peut aussi modifier chaque élément de la liste, en assignant une nouvelle valeur à l'emplacement souhaité."
      ]
    },
    {
      "cell_type": "code",
      "metadata": {
        "id": "qwiWeu7eUxki",
        "colab_type": "code",
        "outputId": "e6f0dd04-5345-4082-c3ae-d918a9c96512",
        "colab": {
          "base_uri": "https://localhost:8080/",
          "height": 51
        }
      },
      "source": [
        "## Changeons le premier élément de la liste\n",
        "print(liste) # Avant\n",
        "liste[0] = 130\n",
        "print(liste) # Après"
      ],
      "execution_count": 0,
      "outputs": [
        {
          "output_type": "stream",
          "text": [
            "[2, 3, 'hello world']\n",
            "[130, 3, 'hello world']\n"
          ],
          "name": "stdout"
        }
      ]
    },
    {
      "cell_type": "markdown",
      "metadata": {
        "id": "ne4vuuPWT34A",
        "colab_type": "text"
      },
      "source": [
        "Le N-uplet fonctionne de la même manière qu'une liste, mis à part la dernière possibilité (modifier des éléments)"
      ]
    },
    {
      "cell_type": "markdown",
      "metadata": {
        "id": "2q7KzMzVVNe_",
        "colab_type": "text"
      },
      "source": [
        "Le dictionnaire fonctionne comme un tableau de correspondances. "
      ]
    },
    {
      "cell_type": "code",
      "metadata": {
        "id": "Kh-z7rYbVVUm",
        "colab_type": "code",
        "outputId": "664ca523-7a6d-43f3-b903-ef036eaba4d7",
        "colab": {
          "base_uri": "https://localhost:8080/",
          "height": 34
        }
      },
      "source": [
        "dictionnaire = {\n",
        "    'produit': z,\n",
        "    'prix' : x, \n",
        "    'stock' : y\n",
        "}\n",
        "\n",
        "print(dictionnaire['produit'])"
      ],
      "execution_count": 0,
      "outputs": [
        {
          "output_type": "stream",
          "text": [
            "hello world\n"
          ],
          "name": "stdout"
        }
      ]
    },
    {
      "cell_type": "markdown",
      "metadata": {
        "id": "WZ5PubzzO_aT",
        "colab_type": "text"
      },
      "source": [
        "# III. Automatisation d'opérations répétitives"
      ]
    },
    {
      "cell_type": "markdown",
      "metadata": {
        "id": "7ot7h5-sYvde",
        "colab_type": "text"
      },
      "source": [
        "## A. Boucles finies (*for*)"
      ]
    },
    {
      "cell_type": "markdown",
      "metadata": {
        "id": "A_yZC1GnPJoS",
        "colab_type": "text"
      },
      "source": [
        "Une boucle `for` permet d'exécuter automatiquement un nombre défini d'opérations répétitives."
      ]
    },
    {
      "cell_type": "code",
      "metadata": {
        "id": "9L3-w6MNOoKE",
        "colab_type": "code",
        "outputId": "4c3ba4f1-50cd-46b5-8725-66f697018471",
        "colab": {
          "base_uri": "https://localhost:8080/",
          "height": 187
        }
      },
      "source": [
        "## Créons d'abord une liste\n",
        "liste = [1, 2, 3, 4, 5, 6, 7, 8, 9, 10]\n",
        "\n",
        "for i in liste:\n",
        "  print(i) # Attention au petit espace devant (TABULATION)\n",
        "\n",
        "# Lire : pour chaque élément de la liste, afficher cet élément\n",
        "# Ceci évite d'avoir à écrire print(liste[0]), print(liste[1])..."
      ],
      "execution_count": 0,
      "outputs": [
        {
          "output_type": "stream",
          "text": [
            "1\n",
            "2\n",
            "3\n",
            "4\n",
            "5\n",
            "6\n",
            "7\n",
            "8\n",
            "9\n",
            "10\n"
          ],
          "name": "stdout"
        }
      ]
    },
    {
      "cell_type": "markdown",
      "metadata": {
        "id": "RgkTLKh1D5kp",
        "colab_type": "text"
      },
      "source": [
        "Le plus souvent, quand il s'agit de mobiliser plusieurs nombres à la suite, on peut utiliser un **itérateur** (`range`)."
      ]
    },
    {
      "cell_type": "code",
      "metadata": {
        "id": "2K0kKe8FD4fq",
        "colab_type": "code",
        "colab": {
          "base_uri": "https://localhost:8080/",
          "height": 187
        },
        "outputId": "ef04c3bd-c388-4420-9362-e7dee5cdf2dc"
      },
      "source": [
        "for i in range(10):\n",
        "  print(i)\n",
        "\n",
        "  # Que remarquez-vous ? "
      ],
      "execution_count": 1,
      "outputs": [
        {
          "output_type": "stream",
          "text": [
            "0\n",
            "1\n",
            "2\n",
            "3\n",
            "4\n",
            "5\n",
            "6\n",
            "7\n",
            "8\n",
            "9\n"
          ],
          "name": "stdout"
        }
      ]
    },
    {
      "cell_type": "markdown",
      "metadata": {
        "id": "C0CVJRAbFDcM",
        "colab_type": "text"
      },
      "source": [
        "Attention, le `range` commence à partir de 0 et finit par l'unité avant le nombre rentré ! Par exemple, `range(10)` commence à 0 et finit par 9. En revanche, on peut très bien spécifier le début et la fin, ainsi que le pas. Par exemple, `range(1, 10, 2)` correspond à tous les entiers de 1 à 9 avec un pas de 2, c'est-à-dire 1, 3, 5, 7, 9."
      ]
    },
    {
      "cell_type": "markdown",
      "metadata": {
        "id": "tpqULWFqZx3l",
        "colab_type": "text"
      },
      "source": [
        "## B. Conditionnement"
      ]
    },
    {
      "cell_type": "markdown",
      "metadata": {
        "id": "38GX7YpXZ2C-",
        "colab_type": "text"
      },
      "source": [
        "En informatique, on définit des **booléens** comme des variables qui ne peuvent prendre que 2 valeurs : vrai ou faux (*True, False*)."
      ]
    },
    {
      "cell_type": "code",
      "metadata": {
        "id": "W48g6wI4V1Ry",
        "colab_type": "code",
        "outputId": "6321b2f6-8e13-4a01-e27b-bebc54658f26",
        "colab": {
          "base_uri": "https://localhost:8080/",
          "height": 85
        }
      },
      "source": [
        "# Exemple de booléens\n",
        "v = True\n",
        "f = False\n",
        "print(v)\n",
        "print(f)\n",
        "\n",
        "# Exemple de calcul impliquant des booléens\n",
        "p_1 = v * f\n",
        "print(p_1)\n",
        "p_2 = v * v\n",
        "print(p_2)\n",
        "# 'True' est associé à une valeur '1', 'False' à une valeur '0'"
      ],
      "execution_count": 0,
      "outputs": [
        {
          "output_type": "stream",
          "text": [
            "True\n",
            "False\n",
            "0\n",
            "1\n"
          ],
          "name": "stdout"
        }
      ]
    },
    {
      "cell_type": "markdown",
      "metadata": {
        "id": "ceZ_vCZub51b",
        "colab_type": "text"
      },
      "source": [
        "Une proposition vraie ou fausse correspond à un booléen."
      ]
    },
    {
      "cell_type": "code",
      "metadata": {
        "id": "lUcPWEZwZDm1",
        "colab_type": "code",
        "outputId": "d19ba324-a5e2-44dd-9e5c-a1eabafa7916",
        "colab": {
          "base_uri": "https://localhost:8080/",
          "height": 51
        }
      },
      "source": [
        "## Condition vraie\n",
        "print(2 <= 3)\n",
        "\n",
        "## Condition fausse\n",
        "print(2 > 10)"
      ],
      "execution_count": 0,
      "outputs": [
        {
          "output_type": "stream",
          "text": [
            "True\n",
            "False\n"
          ],
          "name": "stdout"
        }
      ]
    },
    {
      "cell_type": "markdown",
      "metadata": {
        "id": "r3REvnskcjSz",
        "colab_type": "text"
      },
      "source": [
        "À partir de cela, l'on peut exécuter des lignes dans Python, sous condition que certaines conditions sont remplies, à partir d'un bloc `if...else`"
      ]
    },
    {
      "cell_type": "code",
      "metadata": {
        "id": "69eb3snLbNOw",
        "colab_type": "code",
        "outputId": "1a4c7d67-d41d-4e81-8470-9885bdfbe0e8",
        "colab": {
          "base_uri": "https://localhost:8080/",
          "height": 34
        }
      },
      "source": [
        "if 2 > 3:\n",
        "  print('Cette condition ne sera pas exécutée')\n",
        "else:\n",
        "  print('Cette condition sera exécutée')"
      ],
      "execution_count": 0,
      "outputs": [
        {
          "output_type": "stream",
          "text": [
            "Cette condition sera exécutée\n"
          ],
          "name": "stdout"
        }
      ]
    },
    {
      "cell_type": "markdown",
      "metadata": {
        "id": "Bkfh--oqFq_P",
        "colab_type": "text"
      },
      "source": [
        "## C. Les boucles indéfinies (*while*)"
      ]
    },
    {
      "cell_type": "markdown",
      "metadata": {
        "id": "c1mJmO99F1wh",
        "colab_type": "text"
      },
      "source": [
        "Lorsqu'on veut créer une boucle, mais qu'on ne sait pas combien d'étapes on a besoin a priori, on utilise un autre type de boucle, appelé `while`, qui répète une action et ne s'arrête que lorsqu'une condition est remplie. "
      ]
    },
    {
      "cell_type": "code",
      "metadata": {
        "id": "5IVyGxCrGwf-",
        "colab_type": "code",
        "colab": {
          "base_uri": "https://localhost:8080/",
          "height": 187
        },
        "outputId": "e65f039c-e0c0-4186-84a2-d98b7a7ed09a"
      },
      "source": [
        "n = 10\n",
        "while n > 0:\n",
        "  n -= 1\n",
        "  print(n)"
      ],
      "execution_count": 3,
      "outputs": [
        {
          "output_type": "stream",
          "text": [
            "9\n",
            "8\n",
            "7\n",
            "6\n",
            "5\n",
            "4\n",
            "3\n",
            "2\n",
            "1\n",
            "0\n"
          ],
          "name": "stdout"
        }
      ]
    },
    {
      "cell_type": "markdown",
      "metadata": {
        "id": "7KqCRkLiH6RC",
        "colab_type": "text"
      },
      "source": [
        "Attention, lorsque la condition d'arrêt n'est pas explicitement spécifiée, vous courrez le risque d'aboutir à une **boucle infinie**, qui va faire planter votre programme. "
      ]
    },
    {
      "cell_type": "code",
      "metadata": {
        "id": "k6qNsa8zICLX",
        "colab_type": "code",
        "colab": {}
      },
      "source": [
        "## Exemple (à ne pas utiliser)\n",
        "# while True:\n",
        "  # print(\"hello world\")"
      ],
      "execution_count": 0,
      "outputs": []
    },
    {
      "cell_type": "markdown",
      "metadata": {
        "id": "JLfP3SudIPWI",
        "colab_type": "text"
      },
      "source": [
        "## Petit exercice - Automatiser une opération répétitive"
      ]
    },
    {
      "cell_type": "markdown",
      "metadata": {
        "id": "LQxlPfVjIbTK",
        "colab_type": "text"
      },
      "source": [
        "Pour les entiers de 0 à 50, n'afficher que les entiers multiples de 3. Indice : utiliser l'opération `%` (reste de la division euclidienne)"
      ]
    },
    {
      "cell_type": "code",
      "metadata": {
        "id": "WLmVVG2lIOoI",
        "colab_type": "code",
        "colab": {}
      },
      "source": [
        "# A vous de jouer ! "
      ],
      "execution_count": 0,
      "outputs": []
    },
    {
      "cell_type": "markdown",
      "metadata": {
        "id": "VPX_nbBrJDbt",
        "colab_type": "text"
      },
      "source": [
        "# IV. Les fonctions"
      ]
    },
    {
      "cell_type": "markdown",
      "metadata": {
        "id": "NBKvwLHIJtfu",
        "colab_type": "text"
      },
      "source": [
        "Une **fonction** est une portion de code permettant d'effectuer un calcul, éventuellement à partir d'**arguments** en entrée, et pouvant renvoyer un **résultat**. Une fonction permet d'éviter d'avoir à copier un même code plusieurs fois dans un même code, s'il n'y a qu'un élément (l'argument) qui change."
      ]
    },
    {
      "cell_type": "code",
      "metadata": {
        "id": "1FdYtZUSJwpE",
        "colab_type": "code",
        "colab": {
          "base_uri": "https://localhost:8080/",
          "height": 34
        },
        "outputId": "e2d34fe3-902c-4fb4-9f2c-227e2738218f"
      },
      "source": [
        "# Exemple d'une fonction classique : la fonction carrée\n",
        "\n",
        "def fonction_carree(x):\n",
        "  carre = x**2 ## ** est l'opérateur puissance\n",
        "  return carre\n",
        "\n",
        "carre_de_deux = fonction_carree(2) \n",
        "print(carre_de_deux)"
      ],
      "execution_count": 7,
      "outputs": [
        {
          "output_type": "stream",
          "text": [
            "4\n"
          ],
          "name": "stdout"
        }
      ]
    },
    {
      "cell_type": "markdown",
      "metadata": {
        "id": "ohOD9aF0LCE0",
        "colab_type": "text"
      },
      "source": [
        "Une fonction peut ne pas avoir d'argument, ou avoir un argument que vous auriez **défini par défaut**."
      ]
    },
    {
      "cell_type": "code",
      "metadata": {
        "id": "gu8HQg9dLNSK",
        "colab_type": "code",
        "colab": {
          "base_uri": "https://localhost:8080/",
          "height": 34
        },
        "outputId": "b4298c3d-9de5-4d08-9633-b7e20dc7974f"
      },
      "source": [
        "def fonction_carree_defaut(x=2):\n",
        "  carree = x**2\n",
        "  return carree\n",
        "\n",
        "resultat = fonction_carree_defaut() ## La valeur par défaut a été donnée lors de la définition de la fonction\n",
        "print(resultat)"
      ],
      "execution_count": 9,
      "outputs": [
        {
          "output_type": "stream",
          "text": [
            "4\n"
          ],
          "name": "stdout"
        }
      ]
    },
    {
      "cell_type": "markdown",
      "metadata": {
        "id": "9srB8JoxLvTQ",
        "colab_type": "text"
      },
      "source": [
        "Une distinction importante à faire entre les variables **locales** et **globales**. Ces variables peuvent porter le même nom, mais elles s'appliquent à un contexte particulier (à l'intérieur ou à l'extérieur d'une fonction)."
      ]
    },
    {
      "cell_type": "code",
      "metadata": {
        "id": "IlZe3dbSMEKr",
        "colab_type": "code",
        "colab": {
          "base_uri": "https://localhost:8080/",
          "height": 51
        },
        "outputId": "3b1e2c30-6bc8-49ae-9adc-b34f9aa63b7b"
      },
      "source": [
        "somme = 0\n",
        "\n",
        "def f_somme(n1, n2):\n",
        "  somme = n1 + n2\n",
        "  return somme\n",
        "\n",
        "print(f_somme(10, 20))\n",
        "print(somme)"
      ],
      "execution_count": 10,
      "outputs": [
        {
          "output_type": "stream",
          "text": [
            "30\n",
            "0\n"
          ],
          "name": "stdout"
        }
      ]
    },
    {
      "cell_type": "markdown",
      "metadata": {
        "id": "CPxWK7841YKq",
        "colab_type": "text"
      },
      "source": [
        "## Mise en pratique : calcul d'une moyenne"
      ]
    },
    {
      "cell_type": "markdown",
      "metadata": {
        "id": "KLEZlU-F11Gf",
        "colab_type": "text"
      },
      "source": [
        "Ecrire un algorithme pour calculer la moyenne de la liste `liste_moyenne` ci-dessous : "
      ]
    },
    {
      "cell_type": "code",
      "metadata": {
        "id": "fb5GY1ImdS00",
        "colab_type": "code",
        "colab": {}
      },
      "source": [
        "liste_moyenne = [1, 3, 5, 7, 9, 17, 21, 32]"
      ],
      "execution_count": 0,
      "outputs": []
    },
    {
      "cell_type": "code",
      "metadata": {
        "id": "FpYCh3iu2CdV",
        "colab_type": "code",
        "colab": {}
      },
      "source": [
        "### Votre solution ici\n",
        "\n",
        "# Stocker dans une variable 'N' la longueur de la liste_moyenne\n",
        "\n",
        "# Ecrire une boucle for dans laquelle tous les éléments de la liste sont sommés\n",
        "\n",
        "# Diviser le résultat de la somme par 'N'"
      ],
      "execution_count": 0,
      "outputs": []
    },
    {
      "cell_type": "code",
      "metadata": {
        "id": "cYrUi0n62ZXH",
        "colab_type": "code",
        "colab": {}
      },
      "source": [
        "### Pour les plus avancés\n",
        "\n",
        "# Ecrire un algorithme pour calculer la variance et l'écart-type de liste_moyenne"
      ],
      "execution_count": 0,
      "outputs": []
    },
    {
      "cell_type": "markdown",
      "metadata": {
        "id": "GDQ9kzogNPvl",
        "colab_type": "text"
      },
      "source": [
        "Ecrire l'algorithme pour calculer la moyenne des nombres de `liste_moyenne` **seulement s'ils sont supérieurs à 10**."
      ]
    },
    {
      "cell_type": "code",
      "metadata": {
        "id": "FaLlvNQ7Ni2n",
        "colab_type": "code",
        "colab": {}
      },
      "source": [
        "### Votre solution ici"
      ],
      "execution_count": 0,
      "outputs": []
    },
    {
      "cell_type": "markdown",
      "metadata": {
        "id": "tBbWSadoNma6",
        "colab_type": "text"
      },
      "source": [
        "Ecrire une fonction qui permette de calculer la moyenne de n'importe qu'elle liste donnée en entrée. Cette fonction prendra deux arguments : ***ma_liste*** (qui est la liste en entrée) et ***seuil*** (qui est le seuil à partir duquel le nombre de la liste sera pris en compte dans le calcul de la moyenne)."
      ]
    },
    {
      "cell_type": "code",
      "metadata": {
        "id": "D1AdjU-MOGKb",
        "colab_type": "code",
        "colab": {}
      },
      "source": [
        "### Votre solution ici"
      ],
      "execution_count": 0,
      "outputs": []
    },
    {
      "cell_type": "markdown",
      "metadata": {
        "id": "ipYaGxf-Og1x",
        "colab_type": "text"
      },
      "source": [
        "# V. Les modules"
      ]
    },
    {
      "cell_type": "markdown",
      "metadata": {
        "id": "H49YztX9OlEM",
        "colab_type": "text"
      },
      "source": [
        "La communauté des développeurs a, depuis 20 ans, écrit énormément de **modules** (ensembles) de fonctions qui facilitent les calculs pour les nouvelles générations de développeurs. Ces modules sont rangées dans les **librairies** de Python, que l'on peut importer et utiliser à bon escient. "
      ]
    },
    {
      "cell_type": "code",
      "metadata": {
        "id": "eZbmyEvoOiDq",
        "colab_type": "code",
        "colab": {}
      },
      "source": [
        "import numpy as np\n",
        "import pandas as pd\n",
        "import time\n",
        "import random"
      ],
      "execution_count": 0,
      "outputs": []
    },
    {
      "cell_type": "markdown",
      "metadata": {
        "id": "ZhdFSV2mOseS",
        "colab_type": "text"
      },
      "source": [
        "*   `numpy` contient les modules essentiels pour l'algèbre linéaire (branche des mathématique étudiant les vecteurs, les matrices...).\n",
        "*   `pandas` contient les modules pour le traitement des données (version améliorée d'Excel).\n",
        "*   `time` contient les modules pour chronométrer l'exécution de certaines portions du code.\n",
        "*   `random` contient les modules nécessaires pour générer des nombres aléatoirement."
      ]
    },
    {
      "cell_type": "markdown",
      "metadata": {
        "id": "fWKG406hT7xC",
        "colab_type": "text"
      },
      "source": [
        "## Focus sur `numpy`"
      ]
    },
    {
      "cell_type": "code",
      "metadata": {
        "id": "En49Kq7MOr61",
        "colab_type": "code",
        "colab": {}
      },
      "source": [
        "# Avec numpy, le traitement des calculs devient beaucoup plus simple : exemple d'une moyenne\n",
        "ma_liste = [1, 2, 3, 4, 5]\n",
        "\n",
        "## Nouvelle version : \n",
        "print(np.mean(ma_liste))"
      ],
      "execution_count": 0,
      "outputs": []
    },
    {
      "cell_type": "markdown",
      "metadata": {
        "id": "nD6L6aGgP_5k",
        "colab_type": "text"
      },
      "source": [
        "L'ensemble des fonctions de la librairie `numpy` se trouve dans la [documentation](https://devdocs.io/numpy~1.14/) disponible sur Internet, et le forum [StackOverflow](https://stackoverflow.com/questions/tagged/numpy) est une excellente ressource d'aide au développement."
      ]
    },
    {
      "cell_type": "code",
      "metadata": {
        "id": "S2LbBa9KOpXP",
        "colab_type": "code",
        "colab": {
          "base_uri": "https://localhost:8080/",
          "height": 51
        },
        "outputId": "5340c36b-38d7-49f4-c1a9-dfa88d9632f3"
      },
      "source": [
        "# Une des propriétés intéressantes de numpy : travailler avec des tableaux de nombres directement.\n",
        "\n",
        "somme_listes = [1, 2, 3] + [3, 4, 5]\n",
        "somme_arrays = np.array([1, 2, 3]) + np.array([3, 4, 5])\n",
        "\n",
        "print(somme_listes)\n",
        "print(somme_arrays)"
      ],
      "execution_count": 13,
      "outputs": [
        {
          "output_type": "stream",
          "text": [
            "[1, 2, 3, 3, 4, 5]\n",
            "[4 6 8]\n"
          ],
          "name": "stdout"
        }
      ]
    },
    {
      "cell_type": "markdown",
      "metadata": {
        "id": "GvgJ6WuuSXLR",
        "colab_type": "text"
      },
      "source": [
        "### Petit exercice - recherche de fonctions sur la doc numpy"
      ]
    },
    {
      "cell_type": "markdown",
      "metadata": {
        "id": "xwCTckAGSnZU",
        "colab_type": "text"
      },
      "source": [
        "Soit un *array* défini par nos soins. Sauriez-vous trouver les fonctions correspondant à ce que l'on recherche ? "
      ]
    },
    {
      "cell_type": "code",
      "metadata": {
        "id": "kddN5YojSUU-",
        "colab_type": "code",
        "colab": {}
      },
      "source": [
        "my_array = np.array([1.1, 2.2, 3.3, 4.4, 5.5, 6.6, 7.7, 8.8, 9.9])"
      ],
      "execution_count": 0,
      "outputs": []
    },
    {
      "cell_type": "code",
      "metadata": {
        "id": "TQxrTBcTTD2W",
        "colab_type": "code",
        "colab": {}
      },
      "source": [
        "# Trouver les fonctions qui renvoient respectivement l'entier supérieur et inférieur de chaque élément de la liste."
      ],
      "execution_count": 0,
      "outputs": []
    },
    {
      "cell_type": "code",
      "metadata": {
        "id": "CZHlYlIHTUUE",
        "colab_type": "code",
        "colab": {}
      },
      "source": [
        "# Trouver les fonctions qui renvoient le minimum et le maximum de cet array"
      ],
      "execution_count": 0,
      "outputs": []
    },
    {
      "cell_type": "code",
      "metadata": {
        "id": "_6KIoPsSTsl9",
        "colab_type": "code",
        "colab": {}
      },
      "source": [
        "# Trouver les fonctions qui renvoient la moyenne, la variance et l'écart-type de cet array"
      ],
      "execution_count": 0,
      "outputs": []
    },
    {
      "cell_type": "markdown",
      "metadata": {
        "id": "aXXtpAzZUAk6",
        "colab_type": "text"
      },
      "source": [
        "## Focus sur `pandas`"
      ]
    },
    {
      "cell_type": "markdown",
      "metadata": {
        "id": "s_RugRWOUfDC",
        "colab_type": "text"
      },
      "source": [
        "`pandas` permet de travailler avec des tables de données **structurées**, appelées ***DataFrame***. Les *DataFrame* sont un très bon complément à Excel, pour des opérations telles que le **filtrage** et les **jointures**. "
      ]
    },
    {
      "cell_type": "code",
      "metadata": {
        "id": "PisPDsHLULnj",
        "colab_type": "code",
        "colab": {}
      },
      "source": [
        "# Création de deux tables à joindre\n",
        "\n",
        "var_id = list(range(100))\n",
        "var_1 = random.sample(range(1, 1000), 100)\n",
        "var_2 = np.random.normal(10, 1, 100)\n",
        "\n",
        "df_dict = {\n",
        "    'id': var_id,\n",
        "    'var1': var_1,\n",
        "    'var2': var_2\n",
        "}\n",
        "\n",
        "df = pd.DataFrame(df_dict)\n",
        "df = df.rename(str, columns = {'id': 'identifiant_client', 'var1': 'unites', 'var2': 'prix_moyen'})\n",
        "var_3 = np.random.choice(['A', 'B', 'C'], size = 100, replace = True)\n",
        "df['secteur'] = var_3\n",
        "\n",
        "df_complem = pd.DataFrame({\n",
        "    'identifiant_client': list(range(50, 120)),\n",
        "    'age_du_gerant': np.random.choice(list(range(18,65)), size = len(range(50, 120)), replace = True)\n",
        "})"
      ],
      "execution_count": 0,
      "outputs": []
    },
    {
      "cell_type": "markdown",
      "metadata": {
        "id": "C9RXO1G5VmqT",
        "colab_type": "text"
      },
      "source": [
        "Pour lire le début d'une table, on peut utiliser la fonction `head()`. Pour connaître les dimensions, on peut utiliser la commande `shape()`."
      ]
    },
    {
      "cell_type": "code",
      "metadata": {
        "id": "JlSf_w0XVlrX",
        "colab_type": "code",
        "colab": {}
      },
      "source": [
        "df_complem.head()\n",
        "print(df_complem.shape())"
      ],
      "execution_count": 0,
      "outputs": []
    },
    {
      "cell_type": "markdown",
      "metadata": {
        "id": "i5ryfX_0WA1_",
        "colab_type": "text"
      },
      "source": [
        "Les [jointures](https://www.dofactory.com/sql/join) servent à rapprocher deux tables partageant un même identifiant commun, afin d'enrichir les données à notre disposition. "
      ]
    },
    {
      "cell_type": "code",
      "metadata": {
        "id": "lEGGY3umWZJp",
        "colab_type": "code",
        "colab": {}
      },
      "source": [
        "j_g = pd.merge(df, df_complem, on = 'identifiant_client', how = 'left')\n",
        "j_d = pd.merge(df, df_complem, on = 'identifiant_client', how = 'right')\n",
        "j_i = pd.merge(df, df_complem, on = 'identifiant_client', how = 'inner')\n",
        "j_u = pd.merge(df, df_complem, on = 'identifiant_client', how = 'outer')"
      ],
      "execution_count": 0,
      "outputs": []
    },
    {
      "cell_type": "markdown",
      "metadata": {
        "id": "b2U1jqE6W0Y5",
        "colab_type": "text"
      },
      "source": [
        "Les quatre types de jointures ne renvoient pas les mêmes résultats. Cela peut se voir sur les dimensions finales des quatre tables. "
      ]
    },
    {
      "cell_type": "code",
      "metadata": {
        "id": "GHvdCzzGW09w",
        "colab_type": "code",
        "colab": {}
      },
      "source": [
        "print(\"Table de jointure à gauche : %s lignes\" % j_g.shape[0])\n",
        "print(\"Table de jointure à droite lignes : %s lignes\" % j_d.shape[0])\n",
        "print(\"Table de jointure par intersection : %s lignes\" % j_i.shape[0])\n",
        "print(\"Table de jointure par union : %s lignes\" % j_u.shape[0])"
      ],
      "execution_count": 0,
      "outputs": []
    },
    {
      "cell_type": "markdown",
      "metadata": {
        "id": "IWRufW9vW5Yt",
        "colab_type": "text"
      },
      "source": [
        "Explication : \n",
        "\n",
        "*   La table **df** a 100 lignes, la jointure gauche **j_g** a donc gardé toutes ses lignes et associé les valeurs pour lesquelles **df_complem** avait une entrée.\n",
        "*   La table **df_complem** a 70 lignes, la jointure droite **j_d** a donc gardé toutes ses lignes et associé les valeurs pour lesquelles **df** avait une entrée.\n",
        "*   La table **df** a les indices clients de 0 à 99; la table **df_complem** a les indices de 50 à 119. Les indices communs vont donc de 50 à 99, soient les 50 observations de **j_i**.\n",
        "*   La jointure **j_u** a simplement gardé toutes les observations, même celles qui n'avaient pas de valeur associée suite à la jointure."
      ]
    },
    {
      "cell_type": "markdown",
      "metadata": {
        "id": "c_fPUAWkXzAr",
        "colab_type": "text"
      },
      "source": [
        "# VI. Et pour aller plus loin... le *scraping*"
      ]
    },
    {
      "cell_type": "code",
      "metadata": {
        "id": "ZJRYjBaRW3ZR",
        "colab_type": "code",
        "colab": {}
      },
      "source": [
        "import requests\n",
        "import urllib.request\n",
        "import time\n",
        "from bs4 import BeautifulSoup"
      ],
      "execution_count": 0,
      "outputs": []
    },
    {
      "cell_type": "code",
      "metadata": {
        "id": "CWAq2_exYNNV",
        "colab_type": "code",
        "colab": {}
      },
      "source": [
        "url = 'https://www.seloger.com/annonces/viagers/appartement/paris-14eme-75/raspail-montparnasse/148160483.htm?ci=750056&idtt=2,5&idtypebien=2,1&naturebien=1,2,4&tri=initial&bd=ListToDetail'\n",
        "response = requests.get(url)"
      ],
      "execution_count": 0,
      "outputs": []
    },
    {
      "cell_type": "code",
      "metadata": {
        "id": "9iOiTEt3ZDDT",
        "colab_type": "code",
        "colab": {}
      },
      "source": [
        "soup = BeautifulSoup(response.text, \"html.parser\")"
      ],
      "execution_count": 0,
      "outputs": []
    },
    {
      "cell_type": "code",
      "metadata": {
        "id": "zHuhxYzYZL5q",
        "colab_type": "code",
        "colab": {
          "base_uri": "https://localhost:8080/",
          "height": 292
        },
        "outputId": "a815571a-395e-4d28-8fc3-0fff991b8a5f"
      },
      "source": [
        "soup.findAll('img')"
      ],
      "execution_count": 20,
      "outputs": [
        {
          "output_type": "execute_result",
          "data": {
            "text/plain": [
              "[<img alt=\"logo SeLoger\" class=\"logo-app\" height=\"72\" src=\"//static-seloger.com/z/produits/sl/homepage/assets/img/bandeau_app/logoappSL.svg\" width=\"72\"/>,\n",
              " <img alt=\"logo SeLoger\" class=\"logo-app\" height=\"72\" src=\"//static-seloger.com/z/produits/sl/homepage/assets/img/bandeau_app/logoappSL.svg\" width=\"72\"/>,\n",
              " <img alt=\"logo SeLoger\" class=\"stars-app\" height=\"auto\" src=\"//static-seloger.com/z/produits/sl/homepage/assets/img/bandeau_app/stars.svg\" width=\"100\"/>,\n",
              " <img alt=\"logo SeLoger\" class=\"logo-app\" height=\"72\" src=\"//static-seloger.com/z/produits/sl/homepage/assets/img/bandeau_app/logoappSL.svg\" width=\"72\"/>,\n",
              " <img class=\"preview1\" src=\"https://v.seloger.com/s/cdn/x/visuels/0/n/7/3/0n738ypa3bkcdbmy1rtghp2nu299tvk82o3fgxx4k.jpg\"/>,\n",
              " <img alt=\"aperçu annonce suivante\" class=\"visuel_annonce \" src=\"/z/produits/sl/assets/images/sl/home/no_visual.png\"/>,\n",
              " <img alt=\" Paris 13ème\" src=\"/z/produits/sl/assets/images/sl/detail/no-visual/no_visual_refonte_250x250.png\"/>,\n",
              " <img alt=\"Viager Appartement 3 pièces 68m² Paris 14ème\" class=\"carrousel_image_visu carrousel_image_small\" data-slideindex=\"\" rel=\"1\" src=\"//v.seloger.com/s/cdn/x/visuels/0/n/7/3/0n738ypa3bkcdbmy1rtghp2nu299tvk82o3fgxx4k.jpg\" title=\"Viager Appartement 3 pièces 68m² Paris 14ème\">\n",
              " </img>,\n",
              " <img alt=\"Viager Appartement 3 pièces 68m² Paris 14ème\" class=\"carrousel_image_visu carrousel_image_small\" data-slideindex=\"\" rel=\"2\" src=\"//v.seloger.com/s/cdn/x/visuels/0/e/v/c/0evcxrj66t9offd920s8g1gpr7d5enqy90v88ryze.jpg\" title=\"Viager Appartement 3 pièces 68m² Paris 14ème\">\n",
              " </img>,\n",
              " <img alt=\"logo agence\" class=\"agence-logo-img\" src=\"https://v.seloger.com/s/width/87/logos/1/d/e/r/1der1vqnyh01yn9s7de59ktkiipt1gfmau6zkiggh.jpg\">\n",
              " </img>,\n",
              " <img alt=\"logo agence\" class=\"agence-logo-img\" src=\"https://v.seloger.com/s/width/87/logos/1/d/e/r/1der1vqnyh01yn9s7de59ktkiipt1gfmau6zkiggh.jpg\"> </img>,\n",
              " <img alt=\"logo agence\" class=\"agence-logo-img\" src=\"https://v.seloger.com/s/width/87/logos/1/d/e/r/1der1vqnyh01yn9s7de59ktkiipt1gfmau6zkiggh.jpg\"> </img>]"
            ]
          },
          "metadata": {
            "tags": []
          },
          "execution_count": 20
        }
      ]
    },
    {
      "cell_type": "code",
      "metadata": {
        "id": "liKyk-QZZUTL",
        "colab_type": "code",
        "colab": {
          "base_uri": "https://localhost:8080/",
          "height": 221
        },
        "outputId": "359107c6-cb17-4f66-c301-9748e612425e"
      },
      "source": [
        "all_img_tags = soup.findAll('img')\n",
        "all_links = []\n",
        "for j in range(len(all_img_tags)):\n",
        "  link = all_img_tags[j]['src']\n",
        "  print(link)\n",
        "  all_links.append(link)"
      ],
      "execution_count": 24,
      "outputs": [
        {
          "output_type": "stream",
          "text": [
            "//static-seloger.com/z/produits/sl/homepage/assets/img/bandeau_app/logoappSL.svg\n",
            "//static-seloger.com/z/produits/sl/homepage/assets/img/bandeau_app/logoappSL.svg\n",
            "//static-seloger.com/z/produits/sl/homepage/assets/img/bandeau_app/stars.svg\n",
            "//static-seloger.com/z/produits/sl/homepage/assets/img/bandeau_app/logoappSL.svg\n",
            "https://v.seloger.com/s/cdn/x/visuels/0/n/7/3/0n738ypa3bkcdbmy1rtghp2nu299tvk82o3fgxx4k.jpg\n",
            "/z/produits/sl/assets/images/sl/home/no_visual.png\n",
            "/z/produits/sl/assets/images/sl/detail/no-visual/no_visual_refonte_250x250.png\n",
            "//v.seloger.com/s/cdn/x/visuels/0/n/7/3/0n738ypa3bkcdbmy1rtghp2nu299tvk82o3fgxx4k.jpg\n",
            "//v.seloger.com/s/cdn/x/visuels/0/e/v/c/0evcxrj66t9offd920s8g1gpr7d5enqy90v88ryze.jpg\n",
            "https://v.seloger.com/s/width/87/logos/1/d/e/r/1der1vqnyh01yn9s7de59ktkiipt1gfmau6zkiggh.jpg\n",
            "https://v.seloger.com/s/width/87/logos/1/d/e/r/1der1vqnyh01yn9s7de59ktkiipt1gfmau6zkiggh.jpg\n",
            "https://v.seloger.com/s/width/87/logos/1/d/e/r/1der1vqnyh01yn9s7de59ktkiipt1gfmau6zkiggh.jpg\n"
          ],
          "name": "stdout"
        }
      ]
    },
    {
      "cell_type": "markdown",
      "metadata": {
        "id": "nW1Sj8eEbSUp",
        "colab_type": "text"
      },
      "source": [
        "### Petit exercice : ne garder que les liens commençant par \"https\""
      ]
    },
    {
      "cell_type": "code",
      "metadata": {
        "id": "V3KJc2XiZnu0",
        "colab_type": "code",
        "colab": {}
      },
      "source": [
        "# Votre solution ici"
      ],
      "execution_count": 0,
      "outputs": []
    },
    {
      "cell_type": "code",
      "metadata": {
        "id": "T9_oKCd9Zohf",
        "colab_type": "code",
        "colab": {}
      },
      "source": [
        "# Pour finir en beauté : télécharger votre butin ! \n",
        "# urllib.request.urlretrieve(link, './image.jpg')"
      ],
      "execution_count": 0,
      "outputs": []
    }
  ]
}